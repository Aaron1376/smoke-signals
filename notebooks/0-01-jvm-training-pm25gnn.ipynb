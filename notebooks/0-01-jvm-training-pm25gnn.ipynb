{
  "nbformat": 4,
  "nbformat_minor": 0,
  "metadata": {
    "colab": {
      "provenance": [],
      "machine_shape": "hm",
      "gpuType": "A100"
    },
    "kernelspec": {
      "name": "python3",
      "display_name": "Python 3"
    },
    "language_info": {
      "name": "python"
    },
    "accelerator": "GPU"
  },
  "cells": [
    {
      "cell_type": "markdown",
      "source": [
        "# Group Nine's Capstone Project"
      ],
      "metadata": {
        "id": "xBsXgCkxrXwd"
      }
    },
    {
      "cell_type": "code",
      "source": [
        "import os\n",
        "from pathlib import Path\n",
        "\n",
        "\n",
        "project_dp = Path('/content/drive/MyDrive/ds-capstone')\n",
        "os.chdir(project_dp)\n",
        "print(f\"Current working directory: {Path.cwd()}\")\n"
      ],
      "metadata": {
        "colab": {
          "base_uri": "https://localhost:8080/"
        },
        "id": "Eu2TuMVi4kBB",
        "outputId": "649c1274-3fb2-4d4c-a796-358d44105b08"
      },
      "execution_count": 13,
      "outputs": [
        {
          "output_type": "stream",
          "name": "stdout",
          "text": [
            "Current working directory: /content/drive/MyDrive/ds-capstone\n"
          ]
        }
      ]
    },
    {
      "cell_type": "markdown",
      "source": [
        "## Network Repository Installaion\n"
      ],
      "metadata": {
        "id": "QQ2MgnQFt6lI"
      }
    },
    {
      "cell_type": "code",
      "source": [
        "!dpkg -i cuda-keyring_1.1-1_all.deb\n",
        "!apt update\n",
        "!apt install -y nvidia-open cuda-toolkit-12-8\n"
      ],
      "metadata": {
        "colab": {
          "base_uri": "https://localhost:8080/"
        },
        "id": "cCbyk3WsuL6U",
        "outputId": "7daf6587-b064-49cf-9696-dd16dd305f69"
      },
      "execution_count": 14,
      "outputs": [
        {
          "output_type": "stream",
          "name": "stdout",
          "text": [
            "(Reading database ... \r(Reading database ... 5%\r(Reading database ... 10%\r(Reading database ... 15%\r(Reading database ... 20%\r(Reading database ... 25%\r(Reading database ... 30%\r(Reading database ... 35%\r(Reading database ... 40%\r(Reading database ... 45%\r(Reading database ... 50%\r(Reading database ... 55%\r(Reading database ... 60%\r(Reading database ... 65%\r(Reading database ... 70%\r(Reading database ... 75%\r(Reading database ... 80%\r(Reading database ... 85%\r(Reading database ... 90%\r(Reading database ... 95%\r(Reading database ... 100%\r(Reading database ... 134302 files and directories currently installed.)\n",
            "Preparing to unpack cuda-keyring_1.1-1_all.deb ...\n",
            "Unpacking cuda-keyring (1.1-1) over (1.1-1) ...\n",
            "Setting up cuda-keyring (1.1-1) ...\n",
            "Hit:1 http://security.ubuntu.com/ubuntu jammy-security InRelease\n",
            "Hit:2 https://cloud.r-project.org/bin/linux/ubuntu jammy-cran40/ InRelease\n",
            "Hit:3 https://developer.download.nvidia.com/compute/cuda/repos/ubuntu2204/x86_64  InRelease\n",
            "Hit:4 https://r2u.stat.illinois.edu/ubuntu jammy InRelease\n",
            "Hit:5 http://archive.ubuntu.com/ubuntu jammy InRelease\n",
            "Get:6 http://archive.ubuntu.com/ubuntu jammy-updates InRelease [128 kB]\n",
            "Hit:7 https://ppa.launchpadcontent.net/deadsnakes/ppa/ubuntu jammy InRelease\n",
            "Hit:8 https://ppa.launchpadcontent.net/graphics-drivers/ppa/ubuntu jammy InRelease\n",
            "Hit:9 https://ppa.launchpadcontent.net/ubuntugis/ppa/ubuntu jammy InRelease\n",
            "Hit:10 http://archive.ubuntu.com/ubuntu jammy-backports InRelease\n",
            "Fetched 128 kB in 1s (116 kB/s)\n",
            "Reading package lists... Done\n",
            "Building dependency tree... Done\n",
            "Reading state information... Done\n",
            "35 packages can be upgraded. Run 'apt list --upgradable' to see them.\n",
            "\u001b[1;33mW: \u001b[0mSkipping acquire of configured file 'main/source/Sources' as repository 'https://r2u.stat.illinois.edu/ubuntu jammy InRelease' does not seem to provide it (sources.list entry misspelt?)\u001b[0m\n",
            "Reading package lists... Done\n",
            "Building dependency tree... Done\n",
            "Reading state information... Done\n",
            "nvidia-open is already the newest version (570.124.06-0ubuntu1).\n",
            "cuda-toolkit-12-8 is already the newest version (12.8.1-1).\n",
            "0 upgraded, 0 newly installed, 0 to remove and 35 not upgraded.\n"
          ]
        }
      ]
    },
    {
      "cell_type": "code",
      "source": [
        "!nvcc --version\n",
        "!nvidia-smi\n"
      ],
      "metadata": {
        "colab": {
          "base_uri": "https://localhost:8080/"
        },
        "id": "NnDO75aE6AYc",
        "outputId": "e6f7d285-ab4f-4aa8-b8ce-217cc071ef40"
      },
      "execution_count": 15,
      "outputs": [
        {
          "output_type": "stream",
          "name": "stdout",
          "text": [
            "nvcc: NVIDIA (R) Cuda compiler driver\n",
            "Copyright (c) 2005-2025 NVIDIA Corporation\n",
            "Built on Fri_Feb_21_20:23:50_PST_2025\n",
            "Cuda compilation tools, release 12.8, V12.8.93\n",
            "Build cuda_12.8.r12.8/compiler.35583870_0\n",
            "Thu Apr 17 23:15:13 2025       \n",
            "+-----------------------------------------------------------------------------------------+\n",
            "| NVIDIA-SMI 550.54.15              Driver Version: 550.54.15      CUDA Version: 12.4     |\n",
            "|-----------------------------------------+------------------------+----------------------+\n",
            "| GPU  Name                 Persistence-M | Bus-Id          Disp.A | Volatile Uncorr. ECC |\n",
            "| Fan  Temp   Perf          Pwr:Usage/Cap |           Memory-Usage | GPU-Util  Compute M. |\n",
            "|                                         |                        |               MIG M. |\n",
            "|=========================================+========================+======================|\n",
            "|   0  NVIDIA A100-SXM4-40GB          Off |   00000000:00:04.0 Off |                    0 |\n",
            "| N/A   36C    P0             43W /  400W |       0MiB /  40960MiB |      0%      Default |\n",
            "|                                         |                        |             Disabled |\n",
            "+-----------------------------------------+------------------------+----------------------+\n",
            "                                                                                         \n",
            "+-----------------------------------------------------------------------------------------+\n",
            "| Processes:                                                                              |\n",
            "|  GPU   GI   CI        PID   Type   Process name                              GPU Memory |\n",
            "|        ID   ID                                                               Usage      |\n",
            "|=========================================================================================|\n",
            "|  No running processes found                                                             |\n",
            "+-----------------------------------------------------------------------------------------+\n"
          ]
        }
      ]
    },
    {
      "cell_type": "markdown",
      "source": [
        "## Install Dependencies"
      ],
      "metadata": {
        "id": "z37lOh4gx13b"
      }
    },
    {
      "cell_type": "markdown",
      "source": [
        "### PyTorch"
      ],
      "metadata": {
        "id": "VLGEZQmtyfJT"
      }
    },
    {
      "cell_type": "code",
      "source": [
        "!pip install torch torchvision torchaudio\n"
      ],
      "metadata": {
        "colab": {
          "base_uri": "https://localhost:8080/"
        },
        "id": "8z0HFXRSx_Eq",
        "outputId": "dff8798a-dd30-4b2c-cee5-bb99ec156316"
      },
      "execution_count": 16,
      "outputs": [
        {
          "output_type": "stream",
          "name": "stdout",
          "text": [
            "Requirement already satisfied: torch in /usr/local/lib/python3.11/dist-packages (2.6.0+cu124)\n",
            "Requirement already satisfied: torchvision in /usr/local/lib/python3.11/dist-packages (0.21.0+cu124)\n",
            "Requirement already satisfied: torchaudio in /usr/local/lib/python3.11/dist-packages (2.6.0+cu124)\n",
            "Requirement already satisfied: filelock in /usr/local/lib/python3.11/dist-packages (from torch) (3.18.0)\n",
            "Requirement already satisfied: typing-extensions>=4.10.0 in /usr/local/lib/python3.11/dist-packages (from torch) (4.13.1)\n",
            "Requirement already satisfied: networkx in /usr/local/lib/python3.11/dist-packages (from torch) (3.4.2)\n",
            "Requirement already satisfied: jinja2 in /usr/local/lib/python3.11/dist-packages (from torch) (3.1.6)\n",
            "Requirement already satisfied: fsspec in /usr/local/lib/python3.11/dist-packages (from torch) (2025.3.2)\n",
            "Requirement already satisfied: nvidia-cuda-nvrtc-cu12==12.4.127 in /usr/local/lib/python3.11/dist-packages (from torch) (12.4.127)\n",
            "Requirement already satisfied: nvidia-cuda-runtime-cu12==12.4.127 in /usr/local/lib/python3.11/dist-packages (from torch) (12.4.127)\n",
            "Requirement already satisfied: nvidia-cuda-cupti-cu12==12.4.127 in /usr/local/lib/python3.11/dist-packages (from torch) (12.4.127)\n",
            "Requirement already satisfied: nvidia-cudnn-cu12==9.1.0.70 in /usr/local/lib/python3.11/dist-packages (from torch) (9.1.0.70)\n",
            "Requirement already satisfied: nvidia-cublas-cu12==12.4.5.8 in /usr/local/lib/python3.11/dist-packages (from torch) (12.4.5.8)\n",
            "Requirement already satisfied: nvidia-cufft-cu12==11.2.1.3 in /usr/local/lib/python3.11/dist-packages (from torch) (11.2.1.3)\n",
            "Requirement already satisfied: nvidia-curand-cu12==10.3.5.147 in /usr/local/lib/python3.11/dist-packages (from torch) (10.3.5.147)\n",
            "Requirement already satisfied: nvidia-cusolver-cu12==11.6.1.9 in /usr/local/lib/python3.11/dist-packages (from torch) (11.6.1.9)\n",
            "Requirement already satisfied: nvidia-cusparse-cu12==12.3.1.170 in /usr/local/lib/python3.11/dist-packages (from torch) (12.3.1.170)\n",
            "Requirement already satisfied: nvidia-cusparselt-cu12==0.6.2 in /usr/local/lib/python3.11/dist-packages (from torch) (0.6.2)\n",
            "Requirement already satisfied: nvidia-nccl-cu12==2.21.5 in /usr/local/lib/python3.11/dist-packages (from torch) (2.21.5)\n",
            "Requirement already satisfied: nvidia-nvtx-cu12==12.4.127 in /usr/local/lib/python3.11/dist-packages (from torch) (12.4.127)\n",
            "Requirement already satisfied: nvidia-nvjitlink-cu12==12.4.127 in /usr/local/lib/python3.11/dist-packages (from torch) (12.4.127)\n",
            "Requirement already satisfied: triton==3.2.0 in /usr/local/lib/python3.11/dist-packages (from torch) (3.2.0)\n",
            "Requirement already satisfied: sympy==1.13.1 in /usr/local/lib/python3.11/dist-packages (from torch) (1.13.1)\n",
            "Requirement already satisfied: mpmath<1.4,>=1.1.0 in /usr/local/lib/python3.11/dist-packages (from sympy==1.13.1->torch) (1.3.0)\n",
            "Requirement already satisfied: numpy in /usr/local/lib/python3.11/dist-packages (from torchvision) (2.0.2)\n",
            "Requirement already satisfied: pillow!=8.3.*,>=5.3.0 in /usr/local/lib/python3.11/dist-packages (from torchvision) (11.1.0)\n",
            "Requirement already satisfied: MarkupSafe>=2.0 in /usr/local/lib/python3.11/dist-packages (from jinja2->torch) (3.0.2)\n"
          ]
        }
      ]
    },
    {
      "cell_type": "markdown",
      "source": [
        "### Other Dependencies"
      ],
      "metadata": {
        "id": "DgrKELQhygoV"
      }
    },
    {
      "cell_type": "code",
      "source": [
        "!pip install arrow bresenham torch_geometric metpy\n"
      ],
      "metadata": {
        "colab": {
          "base_uri": "https://localhost:8080/"
        },
        "id": "AZF618eeyi_n",
        "outputId": "072553a1-373a-441c-cc21-562b4c972287"
      },
      "execution_count": 17,
      "outputs": [
        {
          "output_type": "stream",
          "name": "stdout",
          "text": [
            "Requirement already satisfied: arrow in /usr/local/lib/python3.11/dist-packages (1.3.0)\n",
            "Requirement already satisfied: bresenham in /usr/local/lib/python3.11/dist-packages (0.2.1)\n",
            "Requirement already satisfied: torch_geometric in /usr/local/lib/python3.11/dist-packages (2.6.1)\n",
            "Requirement already satisfied: metpy in /usr/local/lib/python3.11/dist-packages (1.6.3)\n",
            "Requirement already satisfied: python-dateutil>=2.7.0 in /usr/local/lib/python3.11/dist-packages (from arrow) (2.8.2)\n",
            "Requirement already satisfied: types-python-dateutil>=2.8.10 in /usr/local/lib/python3.11/dist-packages (from arrow) (2.9.0.20241206)\n",
            "Requirement already satisfied: aiohttp in /usr/local/lib/python3.11/dist-packages (from torch_geometric) (3.11.15)\n",
            "Requirement already satisfied: fsspec in /usr/local/lib/python3.11/dist-packages (from torch_geometric) (2025.3.2)\n",
            "Requirement already satisfied: jinja2 in /usr/local/lib/python3.11/dist-packages (from torch_geometric) (3.1.6)\n",
            "Requirement already satisfied: numpy in /usr/local/lib/python3.11/dist-packages (from torch_geometric) (2.0.2)\n",
            "Requirement already satisfied: psutil>=5.8.0 in /usr/local/lib/python3.11/dist-packages (from torch_geometric) (5.9.5)\n",
            "Requirement already satisfied: pyparsing in /usr/local/lib/python3.11/dist-packages (from torch_geometric) (3.2.3)\n",
            "Requirement already satisfied: requests in /usr/local/lib/python3.11/dist-packages (from torch_geometric) (2.32.3)\n",
            "Requirement already satisfied: tqdm in /usr/local/lib/python3.11/dist-packages (from torch_geometric) (4.67.1)\n",
            "Requirement already satisfied: matplotlib>=3.5.0 in /usr/local/lib/python3.11/dist-packages (from metpy) (3.10.0)\n",
            "Requirement already satisfied: pandas>=1.4.0 in /usr/local/lib/python3.11/dist-packages (from metpy) (2.2.2)\n",
            "Requirement already satisfied: pint>=0.17 in /usr/local/lib/python3.11/dist-packages (from metpy) (0.24.4)\n",
            "Requirement already satisfied: pooch>=1.2.0 in /usr/local/lib/python3.11/dist-packages (from metpy) (1.8.2)\n",
            "Requirement already satisfied: pyproj>=3.0.0 in /usr/local/lib/python3.11/dist-packages (from metpy) (3.7.1)\n",
            "Requirement already satisfied: scipy>=1.8.0 in /usr/local/lib/python3.11/dist-packages (from metpy) (1.14.1)\n",
            "Requirement already satisfied: traitlets>=5.0.5 in /usr/local/lib/python3.11/dist-packages (from metpy) (5.7.1)\n",
            "Requirement already satisfied: xarray>=0.21.0 in /usr/local/lib/python3.11/dist-packages (from metpy) (2025.1.2)\n",
            "Requirement already satisfied: contourpy>=1.0.1 in /usr/local/lib/python3.11/dist-packages (from matplotlib>=3.5.0->metpy) (1.3.1)\n",
            "Requirement already satisfied: cycler>=0.10 in /usr/local/lib/python3.11/dist-packages (from matplotlib>=3.5.0->metpy) (0.12.1)\n",
            "Requirement already satisfied: fonttools>=4.22.0 in /usr/local/lib/python3.11/dist-packages (from matplotlib>=3.5.0->metpy) (4.57.0)\n",
            "Requirement already satisfied: kiwisolver>=1.3.1 in /usr/local/lib/python3.11/dist-packages (from matplotlib>=3.5.0->metpy) (1.4.8)\n",
            "Requirement already satisfied: packaging>=20.0 in /usr/local/lib/python3.11/dist-packages (from matplotlib>=3.5.0->metpy) (24.2)\n",
            "Requirement already satisfied: pillow>=8 in /usr/local/lib/python3.11/dist-packages (from matplotlib>=3.5.0->metpy) (11.1.0)\n",
            "Requirement already satisfied: pytz>=2020.1 in /usr/local/lib/python3.11/dist-packages (from pandas>=1.4.0->metpy) (2025.2)\n",
            "Requirement already satisfied: tzdata>=2022.7 in /usr/local/lib/python3.11/dist-packages (from pandas>=1.4.0->metpy) (2025.2)\n",
            "Requirement already satisfied: platformdirs>=2.1.0 in /usr/local/lib/python3.11/dist-packages (from pint>=0.17->metpy) (4.3.7)\n",
            "Requirement already satisfied: typing-extensions>=4.0.0 in /usr/local/lib/python3.11/dist-packages (from pint>=0.17->metpy) (4.13.1)\n",
            "Requirement already satisfied: flexcache>=0.3 in /usr/local/lib/python3.11/dist-packages (from pint>=0.17->metpy) (0.3)\n",
            "Requirement already satisfied: flexparser>=0.4 in /usr/local/lib/python3.11/dist-packages (from pint>=0.17->metpy) (0.4)\n",
            "Requirement already satisfied: certifi in /usr/local/lib/python3.11/dist-packages (from pyproj>=3.0.0->metpy) (2025.1.31)\n",
            "Requirement already satisfied: six>=1.5 in /usr/local/lib/python3.11/dist-packages (from python-dateutil>=2.7.0->arrow) (1.17.0)\n",
            "Requirement already satisfied: charset-normalizer<4,>=2 in /usr/local/lib/python3.11/dist-packages (from requests->torch_geometric) (3.4.1)\n",
            "Requirement already satisfied: idna<4,>=2.5 in /usr/local/lib/python3.11/dist-packages (from requests->torch_geometric) (3.10)\n",
            "Requirement already satisfied: urllib3<3,>=1.21.1 in /usr/local/lib/python3.11/dist-packages (from requests->torch_geometric) (2.3.0)\n",
            "Requirement already satisfied: aiohappyeyeballs>=2.3.0 in /usr/local/lib/python3.11/dist-packages (from aiohttp->torch_geometric) (2.6.1)\n",
            "Requirement already satisfied: aiosignal>=1.1.2 in /usr/local/lib/python3.11/dist-packages (from aiohttp->torch_geometric) (1.3.2)\n",
            "Requirement already satisfied: attrs>=17.3.0 in /usr/local/lib/python3.11/dist-packages (from aiohttp->torch_geometric) (25.3.0)\n",
            "Requirement already satisfied: frozenlist>=1.1.1 in /usr/local/lib/python3.11/dist-packages (from aiohttp->torch_geometric) (1.5.0)\n",
            "Requirement already satisfied: multidict<7.0,>=4.5 in /usr/local/lib/python3.11/dist-packages (from aiohttp->torch_geometric) (6.4.2)\n",
            "Requirement already satisfied: propcache>=0.2.0 in /usr/local/lib/python3.11/dist-packages (from aiohttp->torch_geometric) (0.3.1)\n",
            "Requirement already satisfied: yarl<2.0,>=1.17.0 in /usr/local/lib/python3.11/dist-packages (from aiohttp->torch_geometric) (1.19.0)\n",
            "Requirement already satisfied: MarkupSafe>=2.0 in /usr/local/lib/python3.11/dist-packages (from jinja2->torch_geometric) (3.0.2)\n"
          ]
        }
      ]
    },
    {
      "cell_type": "code",
      "source": [
        "!pip install pyg_lib torch_scatter torch_sparse torch_cluster torch_spline_conv -f https://data.pyg.org/whl/torch-2.6.0+cu124.html\n"
      ],
      "metadata": {
        "colab": {
          "base_uri": "https://localhost:8080/"
        },
        "id": "TIkMJBKgziJr",
        "outputId": "f737f09d-f770-4229-c667-72a949770fe5"
      },
      "execution_count": 18,
      "outputs": [
        {
          "output_type": "stream",
          "name": "stdout",
          "text": [
            "Looking in links: https://data.pyg.org/whl/torch-2.6.0+cu124.html\n",
            "Requirement already satisfied: pyg_lib in /usr/local/lib/python3.11/dist-packages (0.4.0+pt26cu124)\n",
            "Requirement already satisfied: torch_scatter in /usr/local/lib/python3.11/dist-packages (2.1.2+pt26cu124)\n",
            "Requirement already satisfied: torch_sparse in /usr/local/lib/python3.11/dist-packages (0.6.18+pt26cu124)\n",
            "Requirement already satisfied: torch_cluster in /usr/local/lib/python3.11/dist-packages (1.6.3+pt26cu124)\n",
            "Requirement already satisfied: torch_spline_conv in /usr/local/lib/python3.11/dist-packages (1.2.2+pt26cu124)\n",
            "Requirement already satisfied: scipy in /usr/local/lib/python3.11/dist-packages (from torch_sparse) (1.14.1)\n",
            "Requirement already satisfied: numpy<2.3,>=1.23.5 in /usr/local/lib/python3.11/dist-packages (from scipy->torch_sparse) (2.0.2)\n"
          ]
        }
      ]
    },
    {
      "cell_type": "code",
      "source": [
        "import pm25_forecasting_gnn\n",
        "\n",
        "\n",
        "%run -m pm25_forecasting_gnn.train\n"
      ],
      "metadata": {
        "colab": {
          "base_uri": "https://localhost:8080/",
          "height": 1000
        },
        "id": "cFHFIl8YgoxE",
        "outputId": "f58546ae-f655-4137-c615-df4367f26412"
      },
      "execution_count": null,
      "outputs": [
        {
          "output_type": "stream",
          "name": "stdout",
          "text": [
            "cuda\n",
            "============== Train Info ==============\n",
            "Dataset number: 1\n",
            "Model: PM25_GNN\n",
            "Train: 2017-01-02T00:00:00+00:00 --> 2018-12-31T00:00:00+00:00\n",
            "Val: 2020-01-01T00:00:00+00:00 --> 2020-12-31T00:00:00+00:00\n",
            "Test: 2021-01-01T00:00:00+00:00 --> 2021-12-31T00:00:00+00:00\n",
            "City number: 112\n",
            "Use metero: ['100m_u_component_of_wind', '100m_v_component_of_wind', '2m_dewpoint_temperature', '2m_temperature', 'boundary_layer_height', 'total_precipitation', 'surface_pressure', 'u_component_of_wind+950', 'v_component_of_wind+950', 'frp_25km_idw', 'frp_50km_idw', 'frp_100km_idw', 'frp_500km_idw', 'numfires', 'julian_date', 'time_of_day']\n",
            "batch_size: 16\n",
            "epochs: 50\n",
            "hist_len: 240\n",
            "pred_len: 48\n",
            "weight_decay: 0.0005\n",
            "early_stop: 10\n",
            "lr: 0.0005\n",
            "========================================\n",
            "\n",
            "\n",
            "No. 0 experiment ~~~\n",
            "PM25_GNN(\n",
            "  (fc_in): Linear(in_features=21, out_features=64, bias=True)\n",
            "  (graph_gnn): GraphGNN(\n",
            "    (edge_mlp): Sequential(\n",
            "      (0): Linear(in_features=45, out_features=32, bias=True)\n",
            "      (1): Sigmoid()\n",
            "      (2): Linear(in_features=32, out_features=30, bias=True)\n",
            "      (3): Sigmoid()\n",
            "    )\n",
            "    (node_mlp): Sequential(\n",
            "      (0): Linear(in_features=30, out_features=13, bias=True)\n",
            "      (1): Sigmoid()\n",
            "    )\n",
            "  )\n",
            "  (gru_cell): GRUCell(\n",
            "    (x2h): Linear(in_features=34, out_features=192, bias=True)\n",
            "    (h2h): Linear(in_features=64, out_features=192, bias=True)\n",
            "  )\n",
            "  (fc_out): Linear(in_features=64, out_features=1, bias=True)\n",
            ")\n",
            "\n",
            "Train epoch 0:\n"
          ]
        },
        {
          "output_type": "stream",
          "name": "stderr",
          "text": [
            "1074it [05:08,  3.48it/s]\n",
            "529it [01:33,  5.68it/s]\n"
          ]
        },
        {
          "output_type": "stream",
          "name": "stdout",
          "text": [
            "train_loss: 0.5826\n",
            "val_loss: 0.6655\n",
            "Minimum val loss!!!\n",
            "Save model: /content/drive/MyDrive/ds-capstone/pm25_forecasting_gnn/data/pm25gnn/results/240_48/1/PM25_GNN/20250417071845/00/model.pth\n",
            "Train loss: 0.5826, Val loss: 0.6655, Test loss: 0.7344, RMSE: 2.72, MAE: 0.89, CSI: 0.8243, POD: 0.8585, FAR: 0.0462\n",
            "\n",
            "Train epoch 1:\n"
          ]
        },
        {
          "output_type": "stream",
          "name": "stderr",
          "text": [
            "1074it [04:34,  3.91it/s]\n",
            "529it [01:16,  6.95it/s]\n"
          ]
        },
        {
          "output_type": "stream",
          "name": "stdout",
          "text": [
            "train_loss: 0.5045\n",
            "val_loss: 0.7094\n",
            "\n",
            "Train epoch 2:\n"
          ]
        },
        {
          "output_type": "stream",
          "name": "stderr",
          "text": [
            "1074it [04:31,  3.95it/s]\n",
            "529it [01:16,  6.91it/s]\n"
          ]
        },
        {
          "output_type": "stream",
          "name": "stdout",
          "text": [
            "train_loss: 0.6086\n",
            "val_loss: 1.0760\n",
            "\n",
            "Train epoch 3:\n"
          ]
        },
        {
          "output_type": "stream",
          "name": "stderr",
          "text": [
            "1074it [04:32,  3.94it/s]\n",
            "529it [01:16,  6.92it/s]\n"
          ]
        },
        {
          "output_type": "stream",
          "name": "stdout",
          "text": [
            "train_loss: 3.6883\n",
            "val_loss: 5.4222\n",
            "\n",
            "Train epoch 4:\n"
          ]
        },
        {
          "output_type": "stream",
          "name": "stderr",
          "text": [
            "1074it [04:32,  3.94it/s]\n",
            "529it [01:16,  6.94it/s]\n"
          ]
        },
        {
          "output_type": "stream",
          "name": "stdout",
          "text": [
            "train_loss: 5.4642\n",
            "val_loss: 14.9185\n",
            "\n",
            "Train epoch 5:\n"
          ]
        },
        {
          "output_type": "stream",
          "name": "stderr",
          "text": [
            "1074it [04:31,  3.96it/s]\n",
            "529it [01:16,  6.94it/s]\n"
          ]
        },
        {
          "output_type": "stream",
          "name": "stdout",
          "text": [
            "train_loss: 139.4399\n",
            "val_loss: 308.1216\n",
            "\n",
            "Train epoch 6:\n"
          ]
        },
        {
          "output_type": "stream",
          "name": "stderr",
          "text": [
            "1074it [04:31,  3.95it/s]\n",
            "529it [01:16,  6.90it/s]\n"
          ]
        },
        {
          "output_type": "stream",
          "name": "stdout",
          "text": [
            "train_loss: 509.7580\n",
            "val_loss: 600.5901\n",
            "\n",
            "Train epoch 7:\n"
          ]
        },
        {
          "output_type": "stream",
          "name": "stderr",
          "text": [
            "1074it [04:31,  3.95it/s]\n",
            "529it [01:16,  6.91it/s]\n"
          ]
        },
        {
          "output_type": "stream",
          "name": "stdout",
          "text": [
            "train_loss: 724.1668\n",
            "val_loss: 531.0613\n",
            "\n",
            "Train epoch 8:\n"
          ]
        },
        {
          "output_type": "stream",
          "name": "stderr",
          "text": [
            "1074it [04:31,  3.96it/s]\n",
            "529it [01:16,  6.94it/s]\n"
          ]
        },
        {
          "output_type": "stream",
          "name": "stdout",
          "text": [
            "train_loss: 474.3499\n",
            "val_loss: 453.9007\n",
            "\n",
            "Train epoch 9:\n"
          ]
        },
        {
          "output_type": "stream",
          "name": "stderr",
          "text": [
            "1074it [04:31,  3.96it/s]\n",
            "529it [01:16,  6.96it/s]\n"
          ]
        },
        {
          "output_type": "stream",
          "name": "stdout",
          "text": [
            "train_loss: 621.7304\n",
            "val_loss: 1031.1512\n",
            "\n",
            "Train epoch 10:\n"
          ]
        },
        {
          "output_type": "stream",
          "name": "stderr",
          "text": [
            "1074it [04:31,  3.96it/s]\n",
            "529it [01:16,  6.91it/s]\n"
          ]
        },
        {
          "output_type": "stream",
          "name": "stdout",
          "text": [
            "train_loss: 1359.2320\n",
            "val_loss: 1638.3754\n",
            "\n",
            "Train epoch 11:\n"
          ]
        },
        {
          "output_type": "stream",
          "name": "stderr",
          "text": [
            "1074it [04:32,  3.95it/s]\n",
            "529it [01:16,  6.92it/s]\n"
          ]
        },
        {
          "output_type": "stream",
          "name": "stdout",
          "text": [
            "train_loss: 2079.2136\n",
            "val_loss: 2463.7557\n",
            "\n",
            "No. 0 experiment results:\n",
            "Train loss: 0.5826, Val loss: 0.6655, Test loss: 0.7344, RMSE: 2.72, MAE: 0.89, CSI: 0.8243, POD: 0.8585, FAR: 0.0462\n",
            "\n",
            "No. 1 experiment ~~~\n",
            "PM25_GNN(\n",
            "  (fc_in): Linear(in_features=21, out_features=64, bias=True)\n",
            "  (graph_gnn): GraphGNN(\n",
            "    (edge_mlp): Sequential(\n",
            "      (0): Linear(in_features=45, out_features=32, bias=True)\n",
            "      (1): Sigmoid()\n",
            "      (2): Linear(in_features=32, out_features=30, bias=True)\n",
            "      (3): Sigmoid()\n",
            "    )\n",
            "    (node_mlp): Sequential(\n",
            "      (0): Linear(in_features=30, out_features=13, bias=True)\n",
            "      (1): Sigmoid()\n",
            "    )\n",
            "  )\n",
            "  (gru_cell): GRUCell(\n",
            "    (x2h): Linear(in_features=34, out_features=192, bias=True)\n",
            "    (h2h): Linear(in_features=64, out_features=192, bias=True)\n",
            "  )\n",
            "  (fc_out): Linear(in_features=64, out_features=1, bias=True)\n",
            ")\n",
            "\n",
            "Train epoch 0:\n"
          ]
        },
        {
          "output_type": "stream",
          "name": "stderr",
          "text": [
            "1074it [04:33,  3.93it/s]\n",
            "529it [01:16,  6.93it/s]\n"
          ]
        },
        {
          "output_type": "stream",
          "name": "stdout",
          "text": [
            "train_loss: 0.6028\n",
            "val_loss: 0.7016\n",
            "Minimum val loss!!!\n",
            "Save model: /content/drive/MyDrive/ds-capstone/pm25_forecasting_gnn/data/pm25gnn/results/240_48/1/PM25_GNN/20250417071845/01/model.pth\n",
            "Train loss: 0.6028, Val loss: 0.7016, Test loss: 0.7733, RMSE: 2.73, MAE: 0.90, CSI: 0.8119, POD: 0.8608, FAR: 0.0654\n",
            "\n",
            "Train epoch 1:\n"
          ]
        },
        {
          "output_type": "stream",
          "name": "stderr",
          "text": [
            "1074it [04:34,  3.91it/s]\n",
            "529it [01:16,  6.93it/s]\n"
          ]
        },
        {
          "output_type": "stream",
          "name": "stdout",
          "text": [
            "train_loss: 0.5061\n",
            "val_loss: 0.7812\n",
            "\n",
            "Train epoch 2:\n"
          ]
        },
        {
          "output_type": "stream",
          "name": "stderr",
          "text": [
            "1074it [04:31,  3.96it/s]\n",
            "529it [01:15,  6.99it/s]\n"
          ]
        },
        {
          "output_type": "stream",
          "name": "stdout",
          "text": [
            "train_loss: 0.6851\n",
            "val_loss: 0.7488\n",
            "\n",
            "Train epoch 3:\n"
          ]
        },
        {
          "output_type": "stream",
          "name": "stderr",
          "text": [
            "1074it [04:29,  3.98it/s]\n",
            "529it [01:15,  6.97it/s]\n"
          ]
        },
        {
          "output_type": "stream",
          "name": "stdout",
          "text": [
            "train_loss: 0.6370\n",
            "val_loss: 0.7677\n",
            "\n",
            "Train epoch 4:\n"
          ]
        },
        {
          "output_type": "stream",
          "name": "stderr",
          "text": [
            "1074it [04:30,  3.96it/s]\n",
            "529it [01:16,  6.93it/s]\n"
          ]
        },
        {
          "output_type": "stream",
          "name": "stdout",
          "text": [
            "train_loss: 0.7609\n",
            "val_loss: 0.8181\n",
            "\n",
            "Train epoch 5:\n"
          ]
        },
        {
          "output_type": "stream",
          "name": "stderr",
          "text": [
            "1074it [04:31,  3.95it/s]\n",
            "529it [01:16,  6.95it/s]\n"
          ]
        },
        {
          "output_type": "stream",
          "name": "stdout",
          "text": [
            "train_loss: 0.7883\n",
            "val_loss: 0.8461\n",
            "\n",
            "Train epoch 6:\n"
          ]
        },
        {
          "output_type": "stream",
          "name": "stderr",
          "text": [
            "1074it [04:32,  3.95it/s]\n",
            "529it [01:16,  6.92it/s]\n"
          ]
        },
        {
          "output_type": "stream",
          "name": "stdout",
          "text": [
            "train_loss: 0.7478\n",
            "val_loss: 0.8440\n",
            "\n",
            "Train epoch 7:\n"
          ]
        },
        {
          "output_type": "stream",
          "name": "stderr",
          "text": [
            "1074it [04:32,  3.94it/s]\n",
            "529it [01:16,  6.94it/s]\n"
          ]
        },
        {
          "output_type": "stream",
          "name": "stdout",
          "text": [
            "train_loss: 0.7249\n",
            "val_loss: 0.8045\n",
            "\n",
            "Train epoch 8:\n"
          ]
        },
        {
          "output_type": "stream",
          "name": "stderr",
          "text": [
            "1074it [04:28,  4.00it/s]\n",
            "529it [01:14,  7.10it/s]\n"
          ]
        },
        {
          "output_type": "stream",
          "name": "stdout",
          "text": [
            "train_loss: 1.5299\n",
            "val_loss: 4.4765\n",
            "\n",
            "Train epoch 9:\n"
          ]
        },
        {
          "output_type": "stream",
          "name": "stderr",
          "text": [
            "1074it [04:27,  4.02it/s]\n",
            "529it [01:14,  7.06it/s]\n"
          ]
        },
        {
          "output_type": "stream",
          "name": "stdout",
          "text": [
            "train_loss: 7.9050\n",
            "val_loss: 6.0402\n",
            "\n",
            "Train epoch 10:\n"
          ]
        },
        {
          "output_type": "stream",
          "name": "stderr",
          "text": [
            "1074it [04:28,  4.01it/s]\n",
            "529it [01:15,  7.04it/s]\n"
          ]
        },
        {
          "output_type": "stream",
          "name": "stdout",
          "text": [
            "train_loss: 33.4992\n",
            "val_loss: 76.1565\n",
            "\n",
            "Train epoch 11:\n"
          ]
        },
        {
          "output_type": "stream",
          "name": "stderr",
          "text": [
            "1074it [04:28,  4.00it/s]\n",
            "529it [01:15,  6.97it/s]\n"
          ]
        },
        {
          "output_type": "stream",
          "name": "stdout",
          "text": [
            "train_loss: 190.1977\n",
            "val_loss: 360.0202\n",
            "\n",
            "No. 1 experiment results:\n",
            "Train loss: 0.6028, Val loss: 0.7016, Test loss: 0.7733, RMSE: 2.73, MAE: 0.90, CSI: 0.8119, POD: 0.8608, FAR: 0.0654\n",
            "\n",
            "No. 2 experiment ~~~\n",
            "PM25_GNN(\n",
            "  (fc_in): Linear(in_features=21, out_features=64, bias=True)\n",
            "  (graph_gnn): GraphGNN(\n",
            "    (edge_mlp): Sequential(\n",
            "      (0): Linear(in_features=45, out_features=32, bias=True)\n",
            "      (1): Sigmoid()\n",
            "      (2): Linear(in_features=32, out_features=30, bias=True)\n",
            "      (3): Sigmoid()\n",
            "    )\n",
            "    (node_mlp): Sequential(\n",
            "      (0): Linear(in_features=30, out_features=13, bias=True)\n",
            "      (1): Sigmoid()\n",
            "    )\n",
            "  )\n",
            "  (gru_cell): GRUCell(\n",
            "    (x2h): Linear(in_features=34, out_features=192, bias=True)\n",
            "    (h2h): Linear(in_features=64, out_features=192, bias=True)\n",
            "  )\n",
            "  (fc_out): Linear(in_features=64, out_features=1, bias=True)\n",
            ")\n",
            "\n",
            "Train epoch 0:\n"
          ]
        },
        {
          "output_type": "stream",
          "name": "stderr",
          "text": [
            "1074it [04:30,  3.97it/s]\n",
            "529it [01:15,  6.99it/s]\n"
          ]
        },
        {
          "output_type": "stream",
          "name": "stdout",
          "text": [
            "train_loss: 0.5874\n",
            "val_loss: 0.7093\n",
            "Minimum val loss!!!\n",
            "Save model: /content/drive/MyDrive/ds-capstone/pm25_forecasting_gnn/data/pm25gnn/results/240_48/1/PM25_GNN/20250417071845/02/model.pth\n",
            "Train loss: 0.5874, Val loss: 0.7093, Test loss: 0.7497, RMSE: 2.81, MAE: 0.94, CSI: 0.8191, POD: 0.8529, FAR: 0.0462\n",
            "\n",
            "Train epoch 1:\n"
          ]
        },
        {
          "output_type": "stream",
          "name": "stderr",
          "text": [
            "1074it [04:33,  3.93it/s]\n",
            "529it [01:15,  6.99it/s]\n"
          ]
        },
        {
          "output_type": "stream",
          "name": "stdout",
          "text": [
            "train_loss: 0.4959\n",
            "val_loss: 0.7251\n",
            "\n",
            "Train epoch 2:\n"
          ]
        },
        {
          "output_type": "stream",
          "name": "stderr",
          "text": [
            "1074it [04:30,  3.97it/s]\n",
            "529it [01:15,  7.00it/s]\n"
          ]
        },
        {
          "output_type": "stream",
          "name": "stdout",
          "text": [
            "train_loss: 9.4736\n",
            "val_loss: 22.9133\n",
            "\n",
            "Train epoch 3:\n"
          ]
        },
        {
          "output_type": "stream",
          "name": "stderr",
          "text": [
            "1074it [04:30,  3.98it/s]\n",
            "529it [01:15,  7.00it/s]\n"
          ]
        },
        {
          "output_type": "stream",
          "name": "stdout",
          "text": [
            "train_loss: 131.4765\n",
            "val_loss: 449.1021\n",
            "\n",
            "Train epoch 4:\n"
          ]
        },
        {
          "output_type": "stream",
          "name": "stderr",
          "text": [
            "1074it [04:30,  3.97it/s]\n",
            "529it [01:15,  6.97it/s]\n"
          ]
        },
        {
          "output_type": "stream",
          "name": "stdout",
          "text": [
            "train_loss: 1018.9900\n",
            "val_loss: 1466.1242\n",
            "\n",
            "Train epoch 5:\n"
          ]
        },
        {
          "output_type": "stream",
          "name": "stderr",
          "text": [
            "1074it [04:30,  3.97it/s]\n",
            "529it [01:15,  6.97it/s]\n"
          ]
        },
        {
          "output_type": "stream",
          "name": "stdout",
          "text": [
            "train_loss: 1476.5045\n",
            "val_loss: 1350.1833\n",
            "\n",
            "Train epoch 6:\n"
          ]
        },
        {
          "output_type": "stream",
          "name": "stderr",
          "text": [
            "1074it [04:29,  3.99it/s]\n",
            "529it [01:15,  6.98it/s]\n"
          ]
        },
        {
          "output_type": "stream",
          "name": "stdout",
          "text": [
            "train_loss: 1246.9705\n",
            "val_loss: 1157.7256\n",
            "\n",
            "Train epoch 7:\n"
          ]
        },
        {
          "output_type": "stream",
          "name": "stderr",
          "text": [
            "1074it [04:30,  3.96it/s]\n",
            "529it [01:15,  6.97it/s]\n"
          ]
        },
        {
          "output_type": "stream",
          "name": "stdout",
          "text": [
            "train_loss: 1240.8998\n",
            "val_loss: 1276.0020\n",
            "\n",
            "Train epoch 8:\n"
          ]
        },
        {
          "output_type": "stream",
          "name": "stderr",
          "text": [
            "1074it [04:30,  3.98it/s]\n",
            "529it [01:15,  6.99it/s]\n"
          ]
        },
        {
          "output_type": "stream",
          "name": "stdout",
          "text": [
            "train_loss: 1227.9712\n",
            "val_loss: 1096.0376\n",
            "\n",
            "Train epoch 9:\n"
          ]
        },
        {
          "output_type": "stream",
          "name": "stderr",
          "text": [
            "1074it [04:31,  3.96it/s]\n",
            "529it [01:15,  6.98it/s]\n"
          ]
        },
        {
          "output_type": "stream",
          "name": "stdout",
          "text": [
            "train_loss: 1098.3810\n",
            "val_loss: 1320.2670\n",
            "\n",
            "Train epoch 10:\n"
          ]
        },
        {
          "output_type": "stream",
          "name": "stderr",
          "text": [
            "1074it [04:29,  3.98it/s]\n",
            "529it [01:16,  6.96it/s]\n"
          ]
        },
        {
          "output_type": "stream",
          "name": "stdout",
          "text": [
            "train_loss: 1508.9944\n",
            "val_loss: 1808.4101\n",
            "\n",
            "Train epoch 11:\n"
          ]
        },
        {
          "output_type": "stream",
          "name": "stderr",
          "text": [
            "1074it [04:30,  3.97it/s]\n",
            "529it [01:14,  7.07it/s]\n"
          ]
        },
        {
          "output_type": "stream",
          "name": "stdout",
          "text": [
            "train_loss: 2226.8154\n",
            "val_loss: 2701.2961\n",
            "\n",
            "No. 2 experiment results:\n",
            "Train loss: 0.5874, Val loss: 0.7093, Test loss: 0.7497, RMSE: 2.81, MAE: 0.94, CSI: 0.8191, POD: 0.8529, FAR: 0.0462\n",
            "\n",
            "No. 3 experiment ~~~\n",
            "PM25_GNN(\n",
            "  (fc_in): Linear(in_features=21, out_features=64, bias=True)\n",
            "  (graph_gnn): GraphGNN(\n",
            "    (edge_mlp): Sequential(\n",
            "      (0): Linear(in_features=45, out_features=32, bias=True)\n",
            "      (1): Sigmoid()\n",
            "      (2): Linear(in_features=32, out_features=30, bias=True)\n",
            "      (3): Sigmoid()\n",
            "    )\n",
            "    (node_mlp): Sequential(\n",
            "      (0): Linear(in_features=30, out_features=13, bias=True)\n",
            "      (1): Sigmoid()\n",
            "    )\n",
            "  )\n",
            "  (gru_cell): GRUCell(\n",
            "    (x2h): Linear(in_features=34, out_features=192, bias=True)\n",
            "    (h2h): Linear(in_features=64, out_features=192, bias=True)\n",
            "  )\n",
            "  (fc_out): Linear(in_features=64, out_features=1, bias=True)\n",
            ")\n",
            "\n",
            "Train epoch 0:\n"
          ]
        },
        {
          "output_type": "stream",
          "name": "stderr",
          "text": [
            "1074it [04:27,  4.01it/s]\n",
            "529it [01:14,  7.07it/s]\n"
          ]
        },
        {
          "output_type": "stream",
          "name": "stdout",
          "text": [
            "train_loss: 0.6020\n",
            "val_loss: 0.6914\n",
            "Minimum val loss!!!\n",
            "Save model: /content/drive/MyDrive/ds-capstone/pm25_forecasting_gnn/data/pm25gnn/results/240_48/1/PM25_GNN/20250417071845/03/model.pth\n",
            "Train loss: 0.6020, Val loss: 0.6914, Test loss: 0.7391, RMSE: 2.74, MAE: 0.91, CSI: 0.8179, POD: 0.8620, FAR: 0.0589\n",
            "\n",
            "Train epoch 1:\n"
          ]
        },
        {
          "output_type": "stream",
          "name": "stderr",
          "text": [
            "1074it [04:30,  3.96it/s]\n",
            "529it [01:15,  7.03it/s]\n"
          ]
        },
        {
          "output_type": "stream",
          "name": "stdout",
          "text": [
            "train_loss: 0.5019\n",
            "val_loss: 0.7477\n",
            "\n",
            "Train epoch 2:\n"
          ]
        },
        {
          "output_type": "stream",
          "name": "stderr",
          "text": [
            "1074it [04:31,  3.96it/s]\n",
            "529it [01:17,  6.86it/s]\n"
          ]
        },
        {
          "output_type": "stream",
          "name": "stdout",
          "text": [
            "train_loss: 0.8707\n",
            "val_loss: 1.4518\n",
            "\n",
            "Train epoch 3:\n"
          ]
        },
        {
          "output_type": "stream",
          "name": "stderr",
          "text": [
            "1074it [04:32,  3.94it/s]\n",
            "529it [01:16,  6.92it/s]\n"
          ]
        },
        {
          "output_type": "stream",
          "name": "stdout",
          "text": [
            "train_loss: 1.9194\n",
            "val_loss: 2.7477\n",
            "\n",
            "Train epoch 4:\n"
          ]
        },
        {
          "output_type": "stream",
          "name": "stderr",
          "text": [
            "1074it [04:32,  3.94it/s]\n",
            "529it [01:16,  6.94it/s]\n"
          ]
        },
        {
          "output_type": "stream",
          "name": "stdout",
          "text": [
            "train_loss: 2.3461\n",
            "val_loss: 3.5884\n",
            "\n",
            "Train epoch 5:\n"
          ]
        },
        {
          "output_type": "stream",
          "name": "stderr",
          "text": [
            "1074it [04:32,  3.94it/s]\n",
            "529it [01:16,  6.92it/s]\n"
          ]
        },
        {
          "output_type": "stream",
          "name": "stdout",
          "text": [
            "train_loss: 5.3040\n",
            "val_loss: 8.5602\n",
            "\n",
            "Train epoch 6:\n"
          ]
        },
        {
          "output_type": "stream",
          "name": "stderr",
          "text": [
            "1074it [04:32,  3.94it/s]\n",
            "529it [01:16,  6.93it/s]\n"
          ]
        },
        {
          "output_type": "stream",
          "name": "stdout",
          "text": [
            "train_loss: 37.3244\n",
            "val_loss: 23.5452\n",
            "\n",
            "Train epoch 7:\n"
          ]
        },
        {
          "output_type": "stream",
          "name": "stderr",
          "text": [
            "1074it [04:31,  3.96it/s]\n",
            "529it [01:15,  6.97it/s]\n"
          ]
        },
        {
          "output_type": "stream",
          "name": "stdout",
          "text": [
            "train_loss: 32.9958\n",
            "val_loss: 70.7403\n",
            "\n",
            "Train epoch 8:\n"
          ]
        },
        {
          "output_type": "stream",
          "name": "stderr",
          "text": [
            "1074it [04:32,  3.95it/s]\n",
            "529it [01:15,  7.01it/s]\n"
          ]
        },
        {
          "output_type": "stream",
          "name": "stdout",
          "text": [
            "train_loss: 149.7281\n",
            "val_loss: 285.6606\n",
            "\n",
            "Train epoch 9:\n"
          ]
        },
        {
          "output_type": "stream",
          "name": "stderr",
          "text": [
            "1074it [04:32,  3.94it/s]\n",
            "529it [01:16,  6.93it/s]\n"
          ]
        },
        {
          "output_type": "stream",
          "name": "stdout",
          "text": [
            "train_loss: 454.2463\n",
            "val_loss: 569.4891\n",
            "\n",
            "Train epoch 10:\n"
          ]
        },
        {
          "output_type": "stream",
          "name": "stderr",
          "text": [
            "1074it [04:31,  3.95it/s]\n",
            "529it [01:16,  6.90it/s]\n"
          ]
        },
        {
          "output_type": "stream",
          "name": "stdout",
          "text": [
            "train_loss: 794.4390\n",
            "val_loss: 1100.2448\n",
            "\n",
            "Train epoch 11:\n"
          ]
        },
        {
          "output_type": "stream",
          "name": "stderr",
          "text": [
            "1074it [04:32,  3.94it/s]\n",
            "529it [01:16,  6.90it/s]\n"
          ]
        },
        {
          "output_type": "stream",
          "name": "stdout",
          "text": [
            "train_loss: 1420.6368\n",
            "val_loss: 1781.9178\n",
            "\n",
            "No. 3 experiment results:\n",
            "Train loss: 0.6020, Val loss: 0.6914, Test loss: 0.7391, RMSE: 2.74, MAE: 0.91, CSI: 0.8179, POD: 0.8620, FAR: 0.0589\n",
            "\n",
            "No. 4 experiment ~~~\n",
            "PM25_GNN(\n",
            "  (fc_in): Linear(in_features=21, out_features=64, bias=True)\n",
            "  (graph_gnn): GraphGNN(\n",
            "    (edge_mlp): Sequential(\n",
            "      (0): Linear(in_features=45, out_features=32, bias=True)\n",
            "      (1): Sigmoid()\n",
            "      (2): Linear(in_features=32, out_features=30, bias=True)\n",
            "      (3): Sigmoid()\n",
            "    )\n",
            "    (node_mlp): Sequential(\n",
            "      (0): Linear(in_features=30, out_features=13, bias=True)\n",
            "      (1): Sigmoid()\n",
            "    )\n",
            "  )\n",
            "  (gru_cell): GRUCell(\n",
            "    (x2h): Linear(in_features=34, out_features=192, bias=True)\n",
            "    (h2h): Linear(in_features=64, out_features=192, bias=True)\n",
            "  )\n",
            "  (fc_out): Linear(in_features=64, out_features=1, bias=True)\n",
            ")\n",
            "\n",
            "Train epoch 0:\n"
          ]
        },
        {
          "output_type": "stream",
          "name": "stderr",
          "text": [
            "1074it [04:32,  3.94it/s]\n",
            "529it [01:16,  6.94it/s]\n"
          ]
        },
        {
          "output_type": "stream",
          "name": "stdout",
          "text": [
            "train_loss: 0.5860\n",
            "val_loss: 0.6966\n",
            "Minimum val loss!!!\n",
            "Save model: /content/drive/MyDrive/ds-capstone/pm25_forecasting_gnn/data/pm25gnn/results/240_48/1/PM25_GNN/20250417071845/04/model.pth\n",
            "Train loss: 0.5860, Val loss: 0.6966, Test loss: 0.7555, RMSE: 2.72, MAE: 0.89, CSI: 0.8188, POD: 0.8584, FAR: 0.0534\n",
            "\n",
            "Train epoch 1:\n"
          ]
        },
        {
          "output_type": "stream",
          "name": "stderr",
          "text": [
            "1074it [04:35,  3.90it/s]\n",
            "529it [01:16,  6.92it/s]\n"
          ]
        },
        {
          "output_type": "stream",
          "name": "stdout",
          "text": [
            "train_loss: 0.4922\n",
            "val_loss: 0.6981\n",
            "\n",
            "Train epoch 2:\n"
          ]
        },
        {
          "output_type": "stream",
          "name": "stderr",
          "text": [
            "1074it [04:34,  3.92it/s]\n",
            "529it [01:16,  6.89it/s]\n"
          ]
        },
        {
          "output_type": "stream",
          "name": "stdout",
          "text": [
            "train_loss: 0.6190\n",
            "val_loss: 0.9519\n",
            "\n",
            "Train epoch 3:\n"
          ]
        },
        {
          "output_type": "stream",
          "name": "stderr",
          "text": [
            "1074it [04:32,  3.93it/s]\n",
            "529it [01:16,  6.90it/s]\n"
          ]
        },
        {
          "output_type": "stream",
          "name": "stdout",
          "text": [
            "train_loss: 0.8089\n",
            "val_loss: 0.8833\n",
            "\n",
            "Train epoch 4:\n"
          ]
        },
        {
          "output_type": "stream",
          "name": "stderr",
          "text": [
            "1074it [04:32,  3.94it/s]\n",
            "529it [01:16,  6.93it/s]\n"
          ]
        },
        {
          "output_type": "stream",
          "name": "stdout",
          "text": [
            "train_loss: 0.7680\n",
            "val_loss: 0.8810\n",
            "\n",
            "Train epoch 5:\n"
          ]
        },
        {
          "output_type": "stream",
          "name": "stderr",
          "text": [
            "1074it [04:31,  3.95it/s]\n",
            "529it [01:15,  6.97it/s]\n"
          ]
        },
        {
          "output_type": "stream",
          "name": "stdout",
          "text": [
            "train_loss: 0.7847\n",
            "val_loss: 0.9368\n",
            "\n",
            "Train epoch 6:\n"
          ]
        },
        {
          "output_type": "stream",
          "name": "stderr",
          "text": [
            "1074it [04:29,  3.98it/s]\n",
            "529it [01:15,  6.97it/s]\n"
          ]
        },
        {
          "output_type": "stream",
          "name": "stdout",
          "text": [
            "train_loss: 1.2319\n",
            "val_loss: 1.5515\n",
            "\n",
            "Train epoch 7:\n"
          ]
        },
        {
          "output_type": "stream",
          "name": "stderr",
          "text": [
            "1074it [04:30,  3.97it/s]\n",
            "529it [01:15,  7.03it/s]\n"
          ]
        },
        {
          "output_type": "stream",
          "name": "stdout",
          "text": [
            "train_loss: 1.4700\n",
            "val_loss: 1.6997\n",
            "\n",
            "Train epoch 8:\n"
          ]
        },
        {
          "output_type": "stream",
          "name": "stderr",
          "text": [
            "1074it [04:30,  3.98it/s]\n",
            "529it [01:15,  6.97it/s]\n"
          ]
        },
        {
          "output_type": "stream",
          "name": "stdout",
          "text": [
            "train_loss: 1.8415\n",
            "val_loss: 2.2288\n",
            "\n",
            "Train epoch 9:\n"
          ]
        },
        {
          "output_type": "stream",
          "name": "stderr",
          "text": [
            "1074it [04:30,  3.97it/s]\n",
            "529it [01:16,  6.96it/s]\n"
          ]
        },
        {
          "output_type": "stream",
          "name": "stdout",
          "text": [
            "train_loss: 5.5399\n",
            "val_loss: 4.0946\n",
            "\n",
            "Train epoch 10:\n"
          ]
        },
        {
          "output_type": "stream",
          "name": "stderr",
          "text": [
            "1074it [04:31,  3.95it/s]\n",
            "529it [01:15,  6.98it/s]\n"
          ]
        },
        {
          "output_type": "stream",
          "name": "stdout",
          "text": [
            "train_loss: 4.5432\n",
            "val_loss: 4.6462\n",
            "\n",
            "Train epoch 11:\n"
          ]
        },
        {
          "output_type": "stream",
          "name": "stderr",
          "text": [
            "1074it [04:32,  3.95it/s]\n",
            "529it [01:16,  6.96it/s]\n"
          ]
        },
        {
          "output_type": "stream",
          "name": "stdout",
          "text": [
            "train_loss: 11.9017\n",
            "val_loss: 30.4975\n",
            "\n",
            "No. 4 experiment results:\n",
            "Train loss: 0.5860, Val loss: 0.6966, Test loss: 0.7555, RMSE: 2.72, MAE: 0.89, CSI: 0.8188, POD: 0.8584, FAR: 0.0534\n",
            "\n",
            "No. 5 experiment ~~~\n",
            "PM25_GNN(\n",
            "  (fc_in): Linear(in_features=21, out_features=64, bias=True)\n",
            "  (graph_gnn): GraphGNN(\n",
            "    (edge_mlp): Sequential(\n",
            "      (0): Linear(in_features=45, out_features=32, bias=True)\n",
            "      (1): Sigmoid()\n",
            "      (2): Linear(in_features=32, out_features=30, bias=True)\n",
            "      (3): Sigmoid()\n",
            "    )\n",
            "    (node_mlp): Sequential(\n",
            "      (0): Linear(in_features=30, out_features=13, bias=True)\n",
            "      (1): Sigmoid()\n",
            "    )\n",
            "  )\n",
            "  (gru_cell): GRUCell(\n",
            "    (x2h): Linear(in_features=34, out_features=192, bias=True)\n",
            "    (h2h): Linear(in_features=64, out_features=192, bias=True)\n",
            "  )\n",
            "  (fc_out): Linear(in_features=64, out_features=1, bias=True)\n",
            ")\n",
            "\n",
            "Train epoch 0:\n"
          ]
        },
        {
          "output_type": "stream",
          "name": "stderr",
          "text": [
            "1074it [04:32,  3.94it/s]\n",
            "529it [01:17,  6.87it/s]\n"
          ]
        },
        {
          "output_type": "stream",
          "name": "stdout",
          "text": [
            "train_loss: 0.6072\n",
            "val_loss: 0.7462\n",
            "Minimum val loss!!!\n",
            "Save model: /content/drive/MyDrive/ds-capstone/pm25_forecasting_gnn/data/pm25gnn/results/240_48/1/PM25_GNN/20250417071845/05/model.pth\n",
            "Train loss: 0.6072, Val loss: 0.7462, Test loss: 0.7397, RMSE: 2.75, MAE: 0.91, CSI: 0.8181, POD: 0.8563, FAR: 0.0518\n",
            "\n",
            "Train epoch 1:\n"
          ]
        },
        {
          "output_type": "stream",
          "name": "stderr",
          "text": [
            "1074it [04:34,  3.92it/s]\n",
            "529it [01:16,  6.95it/s]\n"
          ]
        },
        {
          "output_type": "stream",
          "name": "stdout",
          "text": [
            "train_loss: 0.5013\n",
            "val_loss: 0.7401\n",
            "Minimum val loss!!!\n",
            "Save model: /content/drive/MyDrive/ds-capstone/pm25_forecasting_gnn/data/pm25gnn/results/240_48/1/PM25_GNN/20250417071845/05/model.pth\n",
            "Train loss: 0.5013, Val loss: 0.7401, Test loss: 0.7790, RMSE: 2.80, MAE: 0.91, CSI: 0.8214, POD: 0.8540, FAR: 0.0444\n",
            "\n",
            "Train epoch 2:\n"
          ]
        },
        {
          "output_type": "stream",
          "name": "stderr",
          "text": [
            "1074it [04:32,  3.94it/s]\n",
            "529it [01:16,  6.93it/s]\n"
          ]
        },
        {
          "output_type": "stream",
          "name": "stdout",
          "text": [
            "train_loss: 0.6380\n",
            "val_loss: 0.7871\n",
            "\n",
            "Train epoch 3:\n"
          ]
        },
        {
          "output_type": "stream",
          "name": "stderr",
          "text": [
            "1074it [04:32,  3.94it/s]\n",
            "529it [01:16,  6.92it/s]\n"
          ]
        },
        {
          "output_type": "stream",
          "name": "stdout",
          "text": [
            "train_loss: 0.7086\n",
            "val_loss: 0.8428\n",
            "\n",
            "Train epoch 4:\n"
          ]
        },
        {
          "output_type": "stream",
          "name": "stderr",
          "text": [
            "1074it [04:32,  3.95it/s]\n",
            "529it [01:16,  6.91it/s]\n"
          ]
        },
        {
          "output_type": "stream",
          "name": "stdout",
          "text": [
            "train_loss: 0.7591\n",
            "val_loss: 0.8324\n",
            "\n",
            "Train epoch 5:\n"
          ]
        },
        {
          "output_type": "stream",
          "name": "stderr",
          "text": [
            "1074it [04:32,  3.95it/s]\n",
            "529it [01:16,  6.90it/s]\n"
          ]
        },
        {
          "output_type": "stream",
          "name": "stdout",
          "text": [
            "train_loss: 0.8055\n",
            "val_loss: 0.8689\n",
            "\n",
            "Train epoch 6:\n"
          ]
        },
        {
          "output_type": "stream",
          "name": "stderr",
          "text": [
            "1074it [04:32,  3.93it/s]\n",
            "529it [01:16,  6.92it/s]\n"
          ]
        },
        {
          "output_type": "stream",
          "name": "stdout",
          "text": [
            "train_loss: 0.7705\n",
            "val_loss: 0.8345\n",
            "\n",
            "Train epoch 7:\n"
          ]
        },
        {
          "output_type": "stream",
          "name": "stderr",
          "text": [
            "1074it [04:31,  3.95it/s]\n",
            "529it [01:16,  6.90it/s]\n"
          ]
        },
        {
          "output_type": "stream",
          "name": "stdout",
          "text": [
            "train_loss: 0.7833\n",
            "val_loss: 0.8759\n",
            "\n",
            "Train epoch 8:\n"
          ]
        },
        {
          "output_type": "stream",
          "name": "stderr",
          "text": [
            "1074it [04:32,  3.95it/s]\n",
            "529it [01:16,  6.95it/s]\n"
          ]
        },
        {
          "output_type": "stream",
          "name": "stdout",
          "text": [
            "train_loss: 0.8188\n",
            "val_loss: 1.2733\n",
            "\n",
            "Train epoch 9:\n"
          ]
        },
        {
          "output_type": "stream",
          "name": "stderr",
          "text": [
            "1074it [04:31,  3.96it/s]\n",
            "529it [01:15,  7.00it/s]\n"
          ]
        },
        {
          "output_type": "stream",
          "name": "stdout",
          "text": [
            "train_loss: 1.8738\n",
            "val_loss: 2.7075\n",
            "\n",
            "Train epoch 10:\n"
          ]
        },
        {
          "output_type": "stream",
          "name": "stderr",
          "text": [
            "1074it [04:31,  3.96it/s]\n",
            "529it [01:15,  6.99it/s]\n"
          ]
        },
        {
          "output_type": "stream",
          "name": "stdout",
          "text": [
            "train_loss: 26.0608\n",
            "val_loss: 63.4481\n",
            "\n",
            "Train epoch 11:\n"
          ]
        },
        {
          "output_type": "stream",
          "name": "stderr",
          "text": [
            "1074it [04:31,  3.96it/s]\n",
            "529it [01:15,  6.96it/s]\n"
          ]
        },
        {
          "output_type": "stream",
          "name": "stdout",
          "text": [
            "train_loss: 58.3528\n",
            "val_loss: 25.7601\n",
            "\n",
            "Train epoch 12:\n"
          ]
        },
        {
          "output_type": "stream",
          "name": "stderr",
          "text": [
            "1074it [04:31,  3.96it/s]\n",
            "529it [01:15,  7.00it/s]\n"
          ]
        },
        {
          "output_type": "stream",
          "name": "stdout",
          "text": [
            "train_loss: 11.2195\n",
            "val_loss: 14.1940\n",
            "\n",
            "No. 5 experiment results:\n",
            "Train loss: 0.5013, Val loss: 0.7401, Test loss: 0.7790, RMSE: 2.80, MAE: 0.91, CSI: 0.8214, POD: 0.8540, FAR: 0.0444\n",
            "\n",
            "No. 6 experiment ~~~\n",
            "PM25_GNN(\n",
            "  (fc_in): Linear(in_features=21, out_features=64, bias=True)\n",
            "  (graph_gnn): GraphGNN(\n",
            "    (edge_mlp): Sequential(\n",
            "      (0): Linear(in_features=45, out_features=32, bias=True)\n",
            "      (1): Sigmoid()\n",
            "      (2): Linear(in_features=32, out_features=30, bias=True)\n",
            "      (3): Sigmoid()\n",
            "    )\n",
            "    (node_mlp): Sequential(\n",
            "      (0): Linear(in_features=30, out_features=13, bias=True)\n",
            "      (1): Sigmoid()\n",
            "    )\n",
            "  )\n",
            "  (gru_cell): GRUCell(\n",
            "    (x2h): Linear(in_features=34, out_features=192, bias=True)\n",
            "    (h2h): Linear(in_features=64, out_features=192, bias=True)\n",
            "  )\n",
            "  (fc_out): Linear(in_features=64, out_features=1, bias=True)\n",
            ")\n",
            "\n",
            "Train epoch 0:\n"
          ]
        },
        {
          "output_type": "stream",
          "name": "stderr",
          "text": [
            "1074it [04:30,  3.97it/s]\n",
            "529it [01:15,  6.97it/s]\n"
          ]
        },
        {
          "output_type": "stream",
          "name": "stdout",
          "text": [
            "train_loss: 0.5996\n",
            "val_loss: 0.6943\n",
            "Minimum val loss!!!\n",
            "Save model: /content/drive/MyDrive/ds-capstone/pm25_forecasting_gnn/data/pm25gnn/results/240_48/1/PM25_GNN/20250417071845/06/model.pth\n",
            "Train loss: 0.5996, Val loss: 0.6943, Test loss: 0.7277, RMSE: 2.72, MAE: 0.89, CSI: 0.8228, POD: 0.8620, FAR: 0.0524\n",
            "\n",
            "Train epoch 1:\n"
          ]
        },
        {
          "output_type": "stream",
          "name": "stderr",
          "text": [
            "1074it [04:32,  3.94it/s]\n",
            "529it [01:15,  6.97it/s]\n"
          ]
        },
        {
          "output_type": "stream",
          "name": "stdout",
          "text": [
            "train_loss: 0.5289\n",
            "val_loss: 0.7569\n",
            "\n",
            "Train epoch 2:\n"
          ]
        },
        {
          "output_type": "stream",
          "name": "stderr",
          "text": [
            "1074it [04:31,  3.95it/s]\n",
            "529it [01:15,  6.96it/s]\n"
          ]
        },
        {
          "output_type": "stream",
          "name": "stdout",
          "text": [
            "train_loss: 0.5903\n",
            "val_loss: 0.7354\n",
            "\n",
            "Train epoch 3:\n"
          ]
        },
        {
          "output_type": "stream",
          "name": "stderr",
          "text": [
            "1074it [04:30,  3.96it/s]\n",
            "529it [01:15,  7.01it/s]\n"
          ]
        },
        {
          "output_type": "stream",
          "name": "stdout",
          "text": [
            "train_loss: 0.6586\n",
            "val_loss: 1.8359\n",
            "\n",
            "Train epoch 4:\n"
          ]
        },
        {
          "output_type": "stream",
          "name": "stderr",
          "text": [
            "1074it [04:30,  3.97it/s]\n",
            "529it [01:15,  6.97it/s]\n"
          ]
        },
        {
          "output_type": "stream",
          "name": "stdout",
          "text": [
            "train_loss: 6.9362\n",
            "val_loss: 2.3580\n",
            "\n",
            "Train epoch 5:\n"
          ]
        },
        {
          "output_type": "stream",
          "name": "stderr",
          "text": [
            "1074it [04:30,  3.97it/s]\n",
            "529it [01:15,  7.01it/s]\n"
          ]
        },
        {
          "output_type": "stream",
          "name": "stdout",
          "text": [
            "train_loss: 7.8721\n",
            "val_loss: 20.0683\n",
            "\n",
            "Train epoch 6:\n"
          ]
        },
        {
          "output_type": "stream",
          "name": "stderr",
          "text": [
            "1074it [04:30,  3.97it/s]\n",
            "529it [01:15,  6.97it/s]\n"
          ]
        },
        {
          "output_type": "stream",
          "name": "stdout",
          "text": [
            "train_loss: 21.0516\n",
            "val_loss: 11.0610\n",
            "\n",
            "Train epoch 7:\n"
          ]
        },
        {
          "output_type": "stream",
          "name": "stderr",
          "text": [
            "1074it [04:30,  3.96it/s]\n",
            "529it [01:15,  6.98it/s]\n"
          ]
        },
        {
          "output_type": "stream",
          "name": "stdout",
          "text": [
            "train_loss: 19.9891\n",
            "val_loss: 41.2023\n",
            "\n",
            "Train epoch 8:\n"
          ]
        },
        {
          "output_type": "stream",
          "name": "stderr",
          "text": [
            "1074it [04:30,  3.96it/s]\n",
            "529it [01:15,  6.97it/s]\n"
          ]
        },
        {
          "output_type": "stream",
          "name": "stdout",
          "text": [
            "train_loss: 45.0141\n",
            "val_loss: 60.5831\n",
            "\n",
            "Train epoch 9:\n"
          ]
        },
        {
          "output_type": "stream",
          "name": "stderr",
          "text": [
            "1074it [04:30,  3.97it/s]\n",
            "529it [01:15,  6.98it/s]\n"
          ]
        },
        {
          "output_type": "stream",
          "name": "stdout",
          "text": [
            "train_loss: 119.8308\n",
            "val_loss: 176.1081\n",
            "\n",
            "Train epoch 10:\n"
          ]
        },
        {
          "output_type": "stream",
          "name": "stderr",
          "text": [
            "1074it [04:30,  3.97it/s]\n",
            "529it [01:15,  6.96it/s]\n"
          ]
        },
        {
          "output_type": "stream",
          "name": "stdout",
          "text": [
            "train_loss: 283.4253\n",
            "val_loss: 414.4657\n",
            "\n",
            "Train epoch 11:\n"
          ]
        },
        {
          "output_type": "stream",
          "name": "stderr",
          "text": [
            "1074it [04:31,  3.96it/s]\n",
            "529it [01:15,  6.99it/s]\n"
          ]
        },
        {
          "output_type": "stream",
          "name": "stdout",
          "text": [
            "train_loss: 661.4192\n",
            "val_loss: 1020.2918\n",
            "\n",
            "No. 6 experiment results:\n",
            "Train loss: 0.5996, Val loss: 0.6943, Test loss: 0.7277, RMSE: 2.72, MAE: 0.89, CSI: 0.8228, POD: 0.8620, FAR: 0.0524\n",
            "\n",
            "No. 7 experiment ~~~\n",
            "PM25_GNN(\n",
            "  (fc_in): Linear(in_features=21, out_features=64, bias=True)\n",
            "  (graph_gnn): GraphGNN(\n",
            "    (edge_mlp): Sequential(\n",
            "      (0): Linear(in_features=45, out_features=32, bias=True)\n",
            "      (1): Sigmoid()\n",
            "      (2): Linear(in_features=32, out_features=30, bias=True)\n",
            "      (3): Sigmoid()\n",
            "    )\n",
            "    (node_mlp): Sequential(\n",
            "      (0): Linear(in_features=30, out_features=13, bias=True)\n",
            "      (1): Sigmoid()\n",
            "    )\n",
            "  )\n",
            "  (gru_cell): GRUCell(\n",
            "    (x2h): Linear(in_features=34, out_features=192, bias=True)\n",
            "    (h2h): Linear(in_features=64, out_features=192, bias=True)\n",
            "  )\n",
            "  (fc_out): Linear(in_features=64, out_features=1, bias=True)\n",
            ")\n",
            "\n",
            "Train epoch 0:\n"
          ]
        },
        {
          "output_type": "stream",
          "name": "stderr",
          "text": [
            "1074it [04:31,  3.95it/s]\n",
            "529it [01:16,  6.96it/s]\n"
          ]
        },
        {
          "output_type": "stream",
          "name": "stdout",
          "text": [
            "train_loss: 0.6021\n",
            "val_loss: 0.6894\n",
            "Minimum val loss!!!\n",
            "Save model: /content/drive/MyDrive/ds-capstone/pm25_forecasting_gnn/data/pm25gnn/results/240_48/1/PM25_GNN/20250417071845/07/model.pth\n",
            "Train loss: 0.6021, Val loss: 0.6894, Test loss: 0.7461, RMSE: 2.77, MAE: 0.92, CSI: 0.8184, POD: 0.8642, FAR: 0.0608\n",
            "\n",
            "Train epoch 1:\n"
          ]
        },
        {
          "output_type": "stream",
          "name": "stderr",
          "text": [
            "1074it [04:34,  3.91it/s]\n",
            "529it [01:15,  6.98it/s]\n"
          ]
        },
        {
          "output_type": "stream",
          "name": "stdout",
          "text": [
            "train_loss: 0.5032\n",
            "val_loss: 0.7501\n",
            "\n",
            "Train epoch 2:\n"
          ]
        },
        {
          "output_type": "stream",
          "name": "stderr",
          "text": [
            "1074it [04:30,  3.98it/s]\n",
            "529it [01:15,  6.98it/s]\n"
          ]
        },
        {
          "output_type": "stream",
          "name": "stdout",
          "text": [
            "train_loss: 0.5419\n",
            "val_loss: 0.7244\n",
            "\n",
            "Train epoch 3:\n"
          ]
        },
        {
          "output_type": "stream",
          "name": "stderr",
          "text": [
            "1074it [04:30,  3.97it/s]\n",
            "529it [01:15,  6.97it/s]\n"
          ]
        },
        {
          "output_type": "stream",
          "name": "stdout",
          "text": [
            "train_loss: 0.6015\n",
            "val_loss: 0.7522\n",
            "\n",
            "Train epoch 4:\n"
          ]
        },
        {
          "output_type": "stream",
          "name": "stderr",
          "text": [
            "1074it [04:30,  3.97it/s]\n",
            "529it [01:15,  6.97it/s]\n"
          ]
        },
        {
          "output_type": "stream",
          "name": "stdout",
          "text": [
            "train_loss: 0.6337\n",
            "val_loss: 0.8422\n",
            "\n",
            "Train epoch 5:\n"
          ]
        },
        {
          "output_type": "stream",
          "name": "stderr",
          "text": [
            "1074it [04:30,  3.96it/s]\n",
            "529it [01:15,  6.98it/s]\n"
          ]
        },
        {
          "output_type": "stream",
          "name": "stdout",
          "text": [
            "train_loss: 0.7690\n",
            "val_loss: 1.1036\n",
            "\n",
            "Train epoch 6:\n"
          ]
        },
        {
          "output_type": "stream",
          "name": "stderr",
          "text": [
            "1074it [04:30,  3.97it/s]\n",
            "529it [01:15,  6.99it/s]\n"
          ]
        },
        {
          "output_type": "stream",
          "name": "stdout",
          "text": [
            "train_loss: 1.2858\n",
            "val_loss: 2.0541\n",
            "\n",
            "Train epoch 7:\n"
          ]
        },
        {
          "output_type": "stream",
          "name": "stderr",
          "text": [
            "1074it [04:31,  3.96it/s]\n",
            "529it [01:15,  6.98it/s]\n"
          ]
        },
        {
          "output_type": "stream",
          "name": "stdout",
          "text": [
            "train_loss: 2.5496\n",
            "val_loss: 1.9060\n",
            "\n",
            "Train epoch 8:\n"
          ]
        },
        {
          "output_type": "stream",
          "name": "stderr",
          "text": [
            "1074it [04:31,  3.95it/s]\n",
            "529it [01:15,  6.97it/s]\n"
          ]
        },
        {
          "output_type": "stream",
          "name": "stdout",
          "text": [
            "train_loss: 3.3532\n",
            "val_loss: 3.3052\n",
            "\n",
            "Train epoch 9:\n"
          ]
        },
        {
          "output_type": "stream",
          "name": "stderr",
          "text": [
            "1074it [04:31,  3.96it/s]\n",
            "529it [01:16,  6.95it/s]\n"
          ]
        },
        {
          "output_type": "stream",
          "name": "stdout",
          "text": [
            "train_loss: 3.6727\n",
            "val_loss: 2.5897\n",
            "\n",
            "Train epoch 10:\n"
          ]
        },
        {
          "output_type": "stream",
          "name": "stderr",
          "text": [
            "1074it [04:31,  3.96it/s]\n",
            "529it [01:16,  6.95it/s]\n"
          ]
        },
        {
          "output_type": "stream",
          "name": "stdout",
          "text": [
            "train_loss: 2.7838\n",
            "val_loss: 1.9984\n",
            "\n",
            "Train epoch 11:\n"
          ]
        },
        {
          "output_type": "stream",
          "name": "stderr",
          "text": [
            "1074it [04:30,  3.97it/s]\n",
            "529it [01:15,  7.01it/s]\n"
          ]
        },
        {
          "output_type": "stream",
          "name": "stdout",
          "text": [
            "train_loss: 1.8804\n",
            "val_loss: 2.4160\n",
            "\n",
            "No. 7 experiment results:\n",
            "Train loss: 0.6021, Val loss: 0.6894, Test loss: 0.7461, RMSE: 2.77, MAE: 0.92, CSI: 0.8184, POD: 0.8642, FAR: 0.0608\n",
            "\n",
            "No. 8 experiment ~~~\n",
            "PM25_GNN(\n",
            "  (fc_in): Linear(in_features=21, out_features=64, bias=True)\n",
            "  (graph_gnn): GraphGNN(\n",
            "    (edge_mlp): Sequential(\n",
            "      (0): Linear(in_features=45, out_features=32, bias=True)\n",
            "      (1): Sigmoid()\n",
            "      (2): Linear(in_features=32, out_features=30, bias=True)\n",
            "      (3): Sigmoid()\n",
            "    )\n",
            "    (node_mlp): Sequential(\n",
            "      (0): Linear(in_features=30, out_features=13, bias=True)\n",
            "      (1): Sigmoid()\n",
            "    )\n",
            "  )\n",
            "  (gru_cell): GRUCell(\n",
            "    (x2h): Linear(in_features=34, out_features=192, bias=True)\n",
            "    (h2h): Linear(in_features=64, out_features=192, bias=True)\n",
            "  )\n",
            "  (fc_out): Linear(in_features=64, out_features=1, bias=True)\n",
            ")\n",
            "\n",
            "Train epoch 0:\n"
          ]
        },
        {
          "output_type": "stream",
          "name": "stderr",
          "text": [
            "1074it [04:31,  3.95it/s]\n",
            "529it [01:15,  6.97it/s]\n"
          ]
        },
        {
          "output_type": "stream",
          "name": "stdout",
          "text": [
            "train_loss: 0.5977\n",
            "val_loss: 0.7153\n",
            "Minimum val loss!!!\n",
            "Save model: /content/drive/MyDrive/ds-capstone/pm25_forecasting_gnn/data/pm25gnn/results/240_48/1/PM25_GNN/20250417071845/08/model.pth\n",
            "Train loss: 0.5977, Val loss: 0.7153, Test loss: 0.7568, RMSE: 2.81, MAE: 0.94, CSI: 0.8126, POD: 0.8636, FAR: 0.0678\n",
            "\n",
            "Train epoch 1:\n"
          ]
        },
        {
          "output_type": "stream",
          "name": "stderr",
          "text": [
            "1074it [04:32,  3.93it/s]\n",
            "529it [01:15,  7.00it/s]\n"
          ]
        },
        {
          "output_type": "stream",
          "name": "stdout",
          "text": [
            "train_loss: 0.5286\n",
            "val_loss: 0.7799\n",
            "\n",
            "Train epoch 2:\n"
          ]
        },
        {
          "output_type": "stream",
          "name": "stderr",
          "text": [
            "1074it [04:31,  3.96it/s]\n",
            "529it [01:15,  7.03it/s]\n"
          ]
        },
        {
          "output_type": "stream",
          "name": "stdout",
          "text": [
            "train_loss: 0.6291\n",
            "val_loss: 1.1094\n",
            "\n",
            "Train epoch 3:\n"
          ]
        },
        {
          "output_type": "stream",
          "name": "stderr",
          "text": [
            "1074it [04:30,  3.97it/s]\n",
            "529it [01:15,  6.96it/s]\n"
          ]
        },
        {
          "output_type": "stream",
          "name": "stdout",
          "text": [
            "train_loss: 1.9872\n",
            "val_loss: 7.1421\n",
            "\n",
            "Train epoch 4:\n"
          ]
        },
        {
          "output_type": "stream",
          "name": "stderr",
          "text": [
            "1074it [04:31,  3.95it/s]\n",
            "529it [01:15,  6.98it/s]\n"
          ]
        },
        {
          "output_type": "stream",
          "name": "stdout",
          "text": [
            "train_loss: 20.7505\n",
            "val_loss: 32.9025\n",
            "\n",
            "Train epoch 5:\n"
          ]
        },
        {
          "output_type": "stream",
          "name": "stderr",
          "text": [
            "1074it [04:30,  3.97it/s]\n",
            "529it [01:15,  6.97it/s]\n"
          ]
        },
        {
          "output_type": "stream",
          "name": "stdout",
          "text": [
            "train_loss: 110.4867\n",
            "val_loss: 137.0702\n",
            "\n",
            "Train epoch 6:\n"
          ]
        },
        {
          "output_type": "stream",
          "name": "stderr",
          "text": [
            "1074it [04:31,  3.96it/s]\n",
            "529it [01:15,  6.99it/s]\n"
          ]
        },
        {
          "output_type": "stream",
          "name": "stdout",
          "text": [
            "train_loss: 179.0250\n",
            "val_loss: 239.8499\n",
            "\n",
            "Train epoch 7:\n"
          ]
        },
        {
          "output_type": "stream",
          "name": "stderr",
          "text": [
            "1074it [04:30,  3.98it/s]\n",
            "529it [01:15,  6.98it/s]\n"
          ]
        },
        {
          "output_type": "stream",
          "name": "stdout",
          "text": [
            "train_loss: 259.8122\n",
            "val_loss: 208.6751\n",
            "\n",
            "Train epoch 8:\n"
          ]
        },
        {
          "output_type": "stream",
          "name": "stderr",
          "text": [
            "1074it [04:30,  3.97it/s]\n",
            "529it [01:15,  6.98it/s]\n"
          ]
        },
        {
          "output_type": "stream",
          "name": "stdout",
          "text": [
            "train_loss: 150.2857\n",
            "val_loss: 184.4133\n",
            "\n",
            "Train epoch 9:\n"
          ]
        },
        {
          "output_type": "stream",
          "name": "stderr",
          "text": [
            "1074it [04:31,  3.96it/s]\n",
            "529it [01:15,  6.98it/s]\n"
          ]
        },
        {
          "output_type": "stream",
          "name": "stdout",
          "text": [
            "train_loss: 345.7652\n",
            "val_loss: 516.4546\n",
            "\n",
            "Train epoch 10:\n"
          ]
        },
        {
          "output_type": "stream",
          "name": "stderr",
          "text": [
            "1074it [04:31,  3.95it/s]\n",
            "529it [01:15,  6.97it/s]\n"
          ]
        },
        {
          "output_type": "stream",
          "name": "stdout",
          "text": [
            "train_loss: 748.4357\n",
            "val_loss: 989.5128\n",
            "\n",
            "Train epoch 11:\n"
          ]
        },
        {
          "output_type": "stream",
          "name": "stderr",
          "text": [
            "1074it [04:30,  3.97it/s]\n",
            "529it [01:15,  6.97it/s]\n"
          ]
        },
        {
          "output_type": "stream",
          "name": "stdout",
          "text": [
            "train_loss: 1197.0893\n",
            "val_loss: 1415.1380\n",
            "\n",
            "No. 8 experiment results:\n",
            "Train loss: 0.5977, Val loss: 0.7153, Test loss: 0.7568, RMSE: 2.81, MAE: 0.94, CSI: 0.8126, POD: 0.8636, FAR: 0.0678\n",
            "\n",
            "No. 9 experiment ~~~\n",
            "PM25_GNN(\n",
            "  (fc_in): Linear(in_features=21, out_features=64, bias=True)\n",
            "  (graph_gnn): GraphGNN(\n",
            "    (edge_mlp): Sequential(\n",
            "      (0): Linear(in_features=45, out_features=32, bias=True)\n",
            "      (1): Sigmoid()\n",
            "      (2): Linear(in_features=32, out_features=30, bias=True)\n",
            "      (3): Sigmoid()\n",
            "    )\n",
            "    (node_mlp): Sequential(\n",
            "      (0): Linear(in_features=30, out_features=13, bias=True)\n",
            "      (1): Sigmoid()\n",
            "    )\n",
            "  )\n",
            "  (gru_cell): GRUCell(\n",
            "    (x2h): Linear(in_features=34, out_features=192, bias=True)\n",
            "    (h2h): Linear(in_features=64, out_features=192, bias=True)\n",
            "  )\n",
            "  (fc_out): Linear(in_features=64, out_features=1, bias=True)\n",
            ")\n",
            "\n",
            "Train epoch 0:\n"
          ]
        },
        {
          "output_type": "stream",
          "name": "stderr",
          "text": [
            "1074it [04:30,  3.97it/s]\n",
            "529it [01:15,  6.99it/s]\n"
          ]
        },
        {
          "output_type": "stream",
          "name": "stdout",
          "text": [
            "train_loss: 0.6029\n",
            "val_loss: 0.6843\n",
            "Minimum val loss!!!\n",
            "Save model: /content/drive/MyDrive/ds-capstone/pm25_forecasting_gnn/data/pm25gnn/results/240_48/1/PM25_GNN/20250417071845/09/model.pth\n",
            "Train loss: 0.6029, Val loss: 0.6843, Test loss: 0.7394, RMSE: 2.69, MAE: 0.88, CSI: 0.8194, POD: 0.8580, FAR: 0.0521\n",
            "\n",
            "Train epoch 1:\n"
          ]
        },
        {
          "output_type": "stream",
          "name": "stderr",
          "text": [
            "1074it [04:33,  3.93it/s]\n",
            "529it [01:15,  6.98it/s]\n"
          ]
        },
        {
          "output_type": "stream",
          "name": "stdout",
          "text": [
            "train_loss: 0.5032\n",
            "val_loss: 0.7076\n",
            "\n",
            "Train epoch 2:\n"
          ]
        },
        {
          "output_type": "stream",
          "name": "stderr",
          "text": [
            "1074it [04:31,  3.96it/s]\n",
            "529it [01:16,  6.95it/s]\n"
          ]
        },
        {
          "output_type": "stream",
          "name": "stdout",
          "text": [
            "train_loss: 0.5556\n",
            "val_loss: 0.7420\n",
            "\n",
            "Train epoch 3:\n"
          ]
        },
        {
          "output_type": "stream",
          "name": "stderr",
          "text": [
            "1074it [04:31,  3.96it/s]\n",
            "529it [01:15,  6.97it/s]\n"
          ]
        },
        {
          "output_type": "stream",
          "name": "stdout",
          "text": [
            "train_loss: 0.9599\n",
            "val_loss: 1.4007\n",
            "\n",
            "Train epoch 4:\n"
          ]
        },
        {
          "output_type": "stream",
          "name": "stderr",
          "text": [
            "1074it [04:30,  3.97it/s]\n",
            "529it [01:15,  6.98it/s]\n"
          ]
        },
        {
          "output_type": "stream",
          "name": "stdout",
          "text": [
            "train_loss: 1.8699\n",
            "val_loss: 4.2725\n",
            "\n",
            "Train epoch 5:\n"
          ]
        },
        {
          "output_type": "stream",
          "name": "stderr",
          "text": [
            "1074it [04:30,  3.97it/s]\n",
            "529it [01:15,  6.98it/s]\n"
          ]
        },
        {
          "output_type": "stream",
          "name": "stdout",
          "text": [
            "train_loss: 29.5549\n",
            "val_loss: 105.2693\n",
            "\n",
            "Train epoch 6:\n"
          ]
        },
        {
          "output_type": "stream",
          "name": "stderr",
          "text": [
            "1074it [04:31,  3.96it/s]\n",
            "529it [01:15,  6.99it/s]\n"
          ]
        },
        {
          "output_type": "stream",
          "name": "stdout",
          "text": [
            "train_loss: 160.4095\n",
            "val_loss: 140.6554\n",
            "\n",
            "Train epoch 7:\n"
          ]
        },
        {
          "output_type": "stream",
          "name": "stderr",
          "text": [
            "1074it [04:31,  3.96it/s]\n",
            "529it [01:15,  6.99it/s]\n"
          ]
        },
        {
          "output_type": "stream",
          "name": "stdout",
          "text": [
            "train_loss: 108.4950\n",
            "val_loss: 90.6959\n",
            "\n",
            "Train epoch 8:\n"
          ]
        },
        {
          "output_type": "stream",
          "name": "stderr",
          "text": [
            "1074it [04:30,  3.96it/s]\n",
            "529it [01:15,  6.99it/s]\n"
          ]
        },
        {
          "output_type": "stream",
          "name": "stdout",
          "text": [
            "train_loss: 374.3992\n",
            "val_loss: 742.5458\n",
            "\n",
            "Train epoch 9:\n"
          ]
        },
        {
          "output_type": "stream",
          "name": "stderr",
          "text": [
            "1074it [04:30,  3.96it/s]\n",
            "529it [01:16,  6.96it/s]\n"
          ]
        },
        {
          "output_type": "stream",
          "name": "stdout",
          "text": [
            "train_loss: 1510.7805\n",
            "val_loss: 1779.3230\n",
            "\n",
            "Train epoch 10:\n"
          ]
        },
        {
          "output_type": "stream",
          "name": "stderr",
          "text": [
            "1074it [04:31,  3.96it/s]\n",
            "529it [01:15,  7.00it/s]\n"
          ]
        },
        {
          "output_type": "stream",
          "name": "stdout",
          "text": [
            "train_loss: 1529.3862\n",
            "val_loss: 1290.0793\n",
            "\n",
            "Train epoch 11:\n"
          ]
        },
        {
          "output_type": "stream",
          "name": "stderr",
          "text": [
            "1074it [04:31,  3.96it/s]\n",
            "529it [01:16,  6.96it/s]\n"
          ]
        },
        {
          "output_type": "stream",
          "name": "stdout",
          "text": [
            "train_loss: 1001.2104\n",
            "val_loss: 775.1110\n",
            "\n",
            "No. 9 experiment results:\n",
            "Train loss: 0.6029, Val loss: 0.6843, Test loss: 0.7394, RMSE: 2.69, MAE: 0.88, CSI: 0.8194, POD: 0.8580, FAR: 0.0521\n"
          ]
        },
        {
          "output_type": "error",
          "ename": "NameError",
          "evalue": "name 'get_mean_std' is not defined",
          "traceback": [
            "\u001b[0;31m---------------------------------------------------------------------------\u001b[0m",
            "\u001b[0;31mNameError\u001b[0m                                 Traceback (most recent call last)",
            "\u001b[0;32m/usr/lib/python3.11/runpy.py\u001b[0m in \u001b[0;36mrun_module\u001b[0;34m(mod_name, init_globals, run_name, alter_sys)\u001b[0m\n",
            "\u001b[0;32m/usr/lib/python3.11/runpy.py\u001b[0m in \u001b[0;36m_run_module_code\u001b[0;34m(code, init_globals, mod_name, mod_spec, pkg_name, script_name)\u001b[0m\n",
            "\u001b[0;32m/usr/lib/python3.11/runpy.py\u001b[0m in \u001b[0;36m_run_code\u001b[0;34m(code, run_globals, init_globals, mod_name, mod_spec, pkg_name, script_name)\u001b[0m\n",
            "\u001b[0;32m/content/drive/MyDrive/ds-capstone/pm25_forecasting_gnn/train.py\u001b[0m in \u001b[0;36m<module>\u001b[0;34m\u001b[0m\n\u001b[1;32m    308\u001b[0m \u001b[0;34m\u001b[0m\u001b[0m\n\u001b[1;32m    309\u001b[0m \u001b[0;32mif\u001b[0m \u001b[0m__name__\u001b[0m \u001b[0;34m==\u001b[0m \u001b[0;34m'__main__'\u001b[0m\u001b[0;34m:\u001b[0m\u001b[0;34m\u001b[0m\u001b[0;34m\u001b[0m\u001b[0m\n\u001b[0;32m--> 310\u001b[0;31m     \u001b[0mmain\u001b[0m\u001b[0;34m(\u001b[0m\u001b[0;34m)\u001b[0m\u001b[0;34m\u001b[0m\u001b[0;34m\u001b[0m\u001b[0m\n\u001b[0m",
            "\u001b[0;32m/content/drive/MyDrive/ds-capstone/pm25_forecasting_gnn/train.py\u001b[0m in \u001b[0;36mmain\u001b[0;34m()\u001b[0m\n\u001b[1;32m    285\u001b[0m \u001b[0;34m\u001b[0m\u001b[0m\n\u001b[1;32m    286\u001b[0m     \u001b[0mexp_metric_str\u001b[0m \u001b[0;34m=\u001b[0m \u001b[0;34m'---------------------------------------\\n'\u001b[0m \u001b[0;34m+\u001b[0m\u001b[0;31m \u001b[0m\u001b[0;31m\\\u001b[0m\u001b[0;34m\u001b[0m\u001b[0;34m\u001b[0m\u001b[0m\n\u001b[0;32m--> 287\u001b[0;31m                      \u001b[0;34m'train_loss | mean: %0.4f std: %0.4f\\n'\u001b[0m \u001b[0;34m%\u001b[0m \u001b[0;34m(\u001b[0m\u001b[0mget_mean_std\u001b[0m\u001b[0;34m(\u001b[0m\u001b[0mtrain_loss_list\u001b[0m\u001b[0;34m)\u001b[0m\u001b[0;34m)\u001b[0m \u001b[0;34m+\u001b[0m\u001b[0;31m \u001b[0m\u001b[0;31m\\\u001b[0m\u001b[0;34m\u001b[0m\u001b[0;34m\u001b[0m\u001b[0m\n\u001b[0m\u001b[1;32m    288\u001b[0m                      \u001b[0;34m'val_loss   | mean: %0.4f std: %0.4f\\n'\u001b[0m \u001b[0;34m%\u001b[0m \u001b[0;34m(\u001b[0m\u001b[0mget_mean_std\u001b[0m\u001b[0;34m(\u001b[0m\u001b[0mval_loss_list\u001b[0m\u001b[0;34m)\u001b[0m\u001b[0;34m)\u001b[0m \u001b[0;34m+\u001b[0m\u001b[0;31m \u001b[0m\u001b[0;31m\\\u001b[0m\u001b[0;34m\u001b[0m\u001b[0;34m\u001b[0m\u001b[0m\n\u001b[1;32m    289\u001b[0m                      \u001b[0;34m'test_loss  | mean: %0.4f std: %0.4f\\n'\u001b[0m \u001b[0;34m%\u001b[0m \u001b[0;34m(\u001b[0m\u001b[0mget_mean_std\u001b[0m\u001b[0;34m(\u001b[0m\u001b[0mtest_loss_list\u001b[0m\u001b[0;34m)\u001b[0m\u001b[0;34m)\u001b[0m \u001b[0;34m+\u001b[0m\u001b[0;31m \u001b[0m\u001b[0;31m\\\u001b[0m\u001b[0;34m\u001b[0m\u001b[0;34m\u001b[0m\u001b[0m\n",
            "\u001b[0;31mNameError\u001b[0m: name 'get_mean_std' is not defined"
          ]
        },
        {
          "output_type": "stream",
          "name": "stderr",
          "text": [
            "/usr/local/lib/python3.11/dist-packages/IPython/core/interactiveshell.py:2940: UserWarning: Unknown failure executing module: <pm25_forecasting_gnn.train>\n",
            "  warn('Unknown failure executing module: <%s>' % mod_name)\n"
          ]
        }
      ]
    },
    {
      "cell_type": "code",
      "source": [],
      "metadata": {
        "id": "Zo6GjZ81-Jz0"
      },
      "execution_count": null,
      "outputs": []
    }
  ]
}